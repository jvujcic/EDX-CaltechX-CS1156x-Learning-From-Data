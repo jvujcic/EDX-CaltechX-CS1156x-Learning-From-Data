{
 "cells": [
  {
   "cell_type": "code",
   "execution_count": 171,
   "metadata": {
    "collapsed": true
   },
   "outputs": [],
   "source": [
    "import numpy as np\n",
    "import matplotlib.pyplot as plt\n",
    "import pandas as pd\n",
    "import sklearn as sk\n",
    "from sklearn import svm\n",
    "import warnings\n",
    "\n",
    "warnings.filterwarnings('ignore')\n",
    "\n",
    "%matplotlib notebook"
   ]
  },
  {
   "cell_type": "code",
   "execution_count": 172,
   "metadata": {
    "collapsed": false
   },
   "outputs": [],
   "source": [
    "train_data = pd.read_table(filepath_or_buffer = 'features.train.txt',\n",
    "                           delim_whitespace = True,\n",
    "                           names = ['digit', 'intensity', 'symmetry'],\n",
    "                           dtype = {'digit': np.int32, 'intensity': np.float64, 'symmetry': np.float64})\n",
    "test_data = pd.read_table(filepath_or_buffer = 'features.test.txt',\n",
    "                          delim_whitespace = True,\n",
    "                          names = ['digit', 'intensity', 'symmetry'],\n",
    "                          dtype = {'digit': np.int32, 'intensity': np.float64, 'symmetry': np.float64})"
   ]
  },
  {
   "cell_type": "code",
   "execution_count": 173,
   "metadata": {
    "collapsed": false
   },
   "outputs": [
    {
     "data": {
      "text/html": [
       "<div>\n",
       "<table border=\"1\" class=\"dataframe\">\n",
       "  <thead>\n",
       "    <tr style=\"text-align: right;\">\n",
       "      <th></th>\n",
       "      <th>digit</th>\n",
       "      <th>intensity</th>\n",
       "      <th>symmetry</th>\n",
       "    </tr>\n",
       "  </thead>\n",
       "  <tbody>\n",
       "    <tr>\n",
       "      <th>0</th>\n",
       "      <td>6</td>\n",
       "      <td>0.341092</td>\n",
       "      <td>-4.528937</td>\n",
       "    </tr>\n",
       "    <tr>\n",
       "      <th>1</th>\n",
       "      <td>5</td>\n",
       "      <td>0.444131</td>\n",
       "      <td>-5.496812</td>\n",
       "    </tr>\n",
       "    <tr>\n",
       "      <th>2</th>\n",
       "      <td>4</td>\n",
       "      <td>0.231002</td>\n",
       "      <td>-2.886750</td>\n",
       "    </tr>\n",
       "    <tr>\n",
       "      <th>3</th>\n",
       "      <td>7</td>\n",
       "      <td>0.200275</td>\n",
       "      <td>-3.534375</td>\n",
       "    </tr>\n",
       "    <tr>\n",
       "      <th>4</th>\n",
       "      <td>3</td>\n",
       "      <td>0.291936</td>\n",
       "      <td>-4.352062</td>\n",
       "    </tr>\n",
       "  </tbody>\n",
       "</table>\n",
       "</div>"
      ],
      "text/plain": [
       "   digit  intensity  symmetry\n",
       "0      6   0.341092 -4.528937\n",
       "1      5   0.444131 -5.496812\n",
       "2      4   0.231002 -2.886750\n",
       "3      7   0.200275 -3.534375\n",
       "4      3   0.291936 -4.352062"
      ]
     },
     "execution_count": 173,
     "metadata": {},
     "output_type": "execute_result"
    }
   ],
   "source": [
    "train_data.head()"
   ]
  },
  {
   "cell_type": "code",
   "execution_count": 174,
   "metadata": {
    "collapsed": false
   },
   "outputs": [
    {
     "data": {
      "text/html": [
       "<div>\n",
       "<table border=\"1\" class=\"dataframe\">\n",
       "  <thead>\n",
       "    <tr style=\"text-align: right;\">\n",
       "      <th></th>\n",
       "      <th>digit</th>\n",
       "      <th>intensity</th>\n",
       "      <th>symmetry</th>\n",
       "    </tr>\n",
       "  </thead>\n",
       "  <tbody>\n",
       "    <tr>\n",
       "      <th>0</th>\n",
       "      <td>9</td>\n",
       "      <td>0.272178</td>\n",
       "      <td>-4.847937</td>\n",
       "    </tr>\n",
       "    <tr>\n",
       "      <th>1</th>\n",
       "      <td>6</td>\n",
       "      <td>0.265133</td>\n",
       "      <td>-5.102000</td>\n",
       "    </tr>\n",
       "    <tr>\n",
       "      <th>2</th>\n",
       "      <td>3</td>\n",
       "      <td>0.335926</td>\n",
       "      <td>-2.921562</td>\n",
       "    </tr>\n",
       "    <tr>\n",
       "      <th>3</th>\n",
       "      <td>6</td>\n",
       "      <td>0.264850</td>\n",
       "      <td>-4.156625</td>\n",
       "    </tr>\n",
       "    <tr>\n",
       "      <th>4</th>\n",
       "      <td>6</td>\n",
       "      <td>0.345338</td>\n",
       "      <td>-6.718438</td>\n",
       "    </tr>\n",
       "  </tbody>\n",
       "</table>\n",
       "</div>"
      ],
      "text/plain": [
       "   digit  intensity  symmetry\n",
       "0      9   0.272178 -4.847937\n",
       "1      6   0.265133 -5.102000\n",
       "2      3   0.335926 -2.921562\n",
       "3      6   0.264850 -4.156625\n",
       "4      6   0.345338 -6.718438"
      ]
     },
     "execution_count": 174,
     "metadata": {},
     "output_type": "execute_result"
    }
   ],
   "source": [
    "test_data.head()"
   ]
  },
  {
   "cell_type": "code",
   "execution_count": 359,
   "metadata": {
    "collapsed": false
   },
   "outputs": [],
   "source": [
    "def filter_data(data, n, m = -1):\n",
    "    if m != -1:\n",
    "        data = data.query('digit == {} or digit == {}'.format(n, m))\n",
    "    data['Class'] = data.digit.map(lambda x: 1 if x == n else -1)\n",
    "    return data\n",
    "\n",
    "def svm_kernel(train_data,test_data, kernel, C, Q=1):\n",
    "    svc = svm.SVC(C=C, kernel=kernel, degree=Q, coef0=1.0, gamma=1.0)\n",
    "    svc.fit(train_data[['intensity', 'symmetry']], train_data.Class)\n",
    "    e_out = 1 - sk.metrics.accuracy_score(test_data.Class, svc.predict(test_data[['intensity', 'symmetry']]))\n",
    "    e_in = 1 - sk.metrics.accuracy_score(train_data.Class, svc.predict(train_data[['intensity', 'symmetry']]))\n",
    "    print(\"E_in ::\", e_in)\n",
    "    print(\"E_out ::\", e_out)\n",
    "    print(\"Number of support vecotors ::\", len(svc.support_))"
   ]
  },
  {
   "cell_type": "markdown",
   "metadata": {},
   "source": [
    "### Solution to question 2:"
   ]
  },
  {
   "cell_type": "code",
   "execution_count": 348,
   "metadata": {
    "collapsed": false
   },
   "outputs": [
    {
     "name": "stdout",
     "output_type": "stream",
     "text": [
      "0 versus all\n",
      "E_in :: 0.105883966534\n",
      "E_out :: 0.111609367215\n",
      "Number of support vecotors :: 2179\n",
      "\n",
      "2 versus all\n",
      "E_in :: 0.100260595254\n",
      "E_out :: 0.0986547085202\n",
      "Number of support vecotors :: 1970\n",
      "\n",
      "4 versus all\n",
      "E_in :: 0.0894253188863\n",
      "E_out :: 0.0996512207275\n",
      "Number of support vecotors :: 1856\n",
      "\n",
      "6 versus all\n",
      "E_in :: 0.0910711836511\n",
      "E_out :: 0.0847035376183\n",
      "Number of support vecotors :: 1893\n",
      "\n",
      "8 versus all\n",
      "E_in :: 0.0743382252092\n",
      "E_out :: 0.0827105132038\n",
      "Number of support vecotors :: 1776\n",
      "\n"
     ]
    }
   ],
   "source": [
    "C = 0.01\n",
    "Q = 2\n",
    "for i in range(0, 10, 2):\n",
    "    print('{} versus all'.format(i))\n",
    "    svm_kernel(filter_data(train_data, i), filter_data(test_data, i), 'poly', C, Q)\n",
    "    print()"
   ]
  },
  {
   "cell_type": "markdown",
   "metadata": {},
   "source": [
    "### Solution to question 3:"
   ]
  },
  {
   "cell_type": "code",
   "execution_count": 350,
   "metadata": {
    "collapsed": false
   },
   "outputs": [
    {
     "name": "stdout",
     "output_type": "stream",
     "text": [
      "1 versus all\n",
      "E_in :: 0.0144013166918\n",
      "E_out :: 0.02192326856\n",
      "Number of support vecotors :: 386\n",
      "\n",
      "3 versus all\n",
      "E_in :: 0.0902482512687\n",
      "E_out :: 0.0827105132038\n",
      "Number of support vecotors :: 1950\n",
      "\n",
      "5 versus all\n",
      "E_in :: 0.0762584007681\n",
      "E_out :: 0.079720976582\n",
      "Number of support vecotors :: 1585\n",
      "\n",
      "7 versus all\n",
      "E_in :: 0.0884652311068\n",
      "E_out :: 0.0732436472347\n",
      "Number of support vecotors :: 1704\n",
      "\n",
      "9 versus all\n",
      "E_in :: 0.0883280757098\n",
      "E_out :: 0.0881913303438\n",
      "Number of support vecotors :: 1978\n",
      "\n"
     ]
    }
   ],
   "source": [
    "C = 0.01\n",
    "Q = 2\n",
    "\n",
    "for i in range(1, 10, 2):\n",
    "    print('{} versus all'.format(i))\n",
    "    svm_kernel(filter_data(train_data, i), filter_data(test_data, i), 'poly', C, Q)\n",
    "    print()"
   ]
  },
  {
   "cell_type": "markdown",
   "metadata": {},
   "source": [
    "### Solution to question 5:"
   ]
  },
  {
   "cell_type": "code",
   "execution_count": 352,
   "metadata": {
    "collapsed": false
   },
   "outputs": [
    {
     "name": "stdout",
     "output_type": "stream",
     "text": [
      "C = 0.001\n",
      "E_in :: 0.00448430493274\n",
      "E_out :: 0.0165094339623\n",
      "Number of support vecotors :: 76\n",
      "\n",
      "C = 0.01\n",
      "E_in :: 0.00448430493274\n",
      "E_out :: 0.0188679245283\n",
      "Number of support vecotors :: 34\n",
      "\n",
      "C = 0.1\n",
      "E_in :: 0.00448430493274\n",
      "E_out :: 0.0188679245283\n",
      "Number of support vecotors :: 24\n",
      "\n",
      "C = 1\n",
      "E_in :: 0.00320307495195\n",
      "E_out :: 0.0188679245283\n",
      "Number of support vecotors :: 24\n",
      "\n"
     ]
    }
   ],
   "source": [
    "Q = 2\n",
    "C = [0.001, 0.01, 0.1, 1]\n",
    "\n",
    "for c in C:\n",
    "    print('C = {}'.format(c))\n",
    "    svm_kernel(filter_data(train_data, 1, 5), filter_data(test_data, 1, 5), 'poly', c, Q)\n",
    "    print()"
   ]
  },
  {
   "cell_type": "markdown",
   "metadata": {},
   "source": [
    "### Solution to question 6:"
   ]
  },
  {
   "cell_type": "code",
   "execution_count": 354,
   "metadata": {
    "collapsed": false
   },
   "outputs": [
    {
     "name": "stdout",
     "output_type": "stream",
     "text": [
      "C = 0.001\n",
      "E_in :: 0.00448430493274\n",
      "E_out :: 0.0212264150943\n",
      "Number of support vecotors :: 25\n",
      "\n",
      "C = 0.01\n",
      "E_in :: 0.00384368994234\n",
      "E_out :: 0.0212264150943\n",
      "Number of support vecotors :: 23\n",
      "\n",
      "C = 0.1\n",
      "E_in :: 0.00320307495195\n",
      "E_out :: 0.0188679245283\n",
      "Number of support vecotors :: 25\n",
      "\n",
      "C = 1\n",
      "E_in :: 0.00320307495195\n",
      "E_out :: 0.0212264150943\n",
      "Number of support vecotors :: 21\n",
      "\n"
     ]
    }
   ],
   "source": [
    "Q = 5\n",
    "C = [0.001, 0.01, 0.1, 1]\n",
    "\n",
    "for c in C:\n",
    "    print('C = {}'.format(c))\n",
    "    svm_kernel(filter_data(train_data, 1, 5), filter_data(test_data, 1, 5), 'poly', c, Q)\n",
    "    print()"
   ]
  },
  {
   "cell_type": "markdown",
   "metadata": {},
   "source": [
    "### Solution to question 7:"
   ]
  },
  {
   "cell_type": "code",
   "execution_count": 344,
   "metadata": {
    "collapsed": false
   },
   "outputs": [],
   "source": [
    "def svm_poly_cv(train_data, c, Q, cv):\n",
    "    runs = 100\n",
    "    average = 0\n",
    "    for _ in range(100):\n",
    "        svc = svm.SVC(C=c, kernel='poly', degree=Q, coef0=1.0, gamma=1.0)\n",
    "        ecv = 1 - sk.model_selection.cross_val_score(svc, train_data[['intensity', 'symmetry']], train_data.Class, cv=cv).mean()\n",
    "        average += ecv\n",
    "    \n",
    "    print(\"C:\", c)\n",
    "    print(\"E_cv:\", average/runs)"
   ]
  },
  {
   "cell_type": "code",
   "execution_count": 345,
   "metadata": {
    "collapsed": false
   },
   "outputs": [
    {
     "name": "stdout",
     "output_type": "stream",
     "text": [
      "C: 0.0001\n",
      "E_cv: 0.00962397201456\n",
      "\n",
      "C: 0.001\n",
      "E_cv: 0.00513249882779\n",
      "\n",
      "C: 0.01\n",
      "E_cv: 0.00449555615263\n",
      "\n",
      "C: 0.1\n",
      "E_cv: 0.00514071744296\n",
      "\n",
      "C: 1\n",
      "E_cv: 0.00449555615263\n",
      "\n"
     ]
    }
   ],
   "source": [
    "Q = 2\n",
    "C = [0.0001, 0.001, 0.01, 0.1, 1]\n",
    "\n",
    "for c in C:\n",
    "    svm_poly_cv(filter_data(train_data, 1, 5), c, Q, 10)\n",
    "    print()"
   ]
  },
  {
   "cell_type": "markdown",
   "metadata": {},
   "source": [
    "### Solution to question 8:"
   ]
  },
  {
   "cell_type": "code",
   "execution_count": 360,
   "metadata": {
    "collapsed": false
   },
   "outputs": [
    {
     "name": "stdout",
     "output_type": "stream",
     "text": [
      "C = 0.01\n",
      "E_in :: 0.00384368994234\n",
      "E_out :: 0.0235849056604\n",
      "Number of support vecotors :: 406\n",
      "\n",
      "C = 1\n",
      "E_in :: 0.00448430493274\n",
      "E_out :: 0.0212264150943\n",
      "Number of support vecotors :: 31\n",
      "\n",
      "C = 100\n",
      "E_in :: 0.00320307495195\n",
      "E_out :: 0.0188679245283\n",
      "Number of support vecotors :: 22\n",
      "\n",
      "C = 1000\n",
      "E_in :: 0.00320307495195\n",
      "E_out :: 0.0188679245283\n",
      "Number of support vecotors :: 20\n",
      "\n",
      "C = 1000000\n",
      "E_in :: 0.000640614990391\n",
      "E_out :: 0.0235849056604\n",
      "Number of support vecotors :: 17\n",
      "\n"
     ]
    }
   ],
   "source": [
    "C = [0.01, 1, 100, 1000, 1000000]\n",
    "\n",
    "for c in C:\n",
    "    print('C = {}'.format(c))\n",
    "    svm_kernel(filter_data(train_data, 1, 5), filter_data(test_data, 1, 5), 'rbf', c)\n",
    "    print()"
   ]
  },
  {
   "cell_type": "code",
   "execution_count": null,
   "metadata": {
    "collapsed": true
   },
   "outputs": [],
   "source": []
  }
 ],
 "metadata": {
  "anaconda-cloud": {},
  "kernelspec": {
   "display_name": "Python [conda root]",
   "language": "python",
   "name": "conda-root-py"
  },
  "language_info": {
   "codemirror_mode": {
    "name": "ipython",
    "version": 3
   },
   "file_extension": ".py",
   "mimetype": "text/x-python",
   "name": "python",
   "nbconvert_exporter": "python",
   "pygments_lexer": "ipython3",
   "version": "3.5.2"
  }
 },
 "nbformat": 4,
 "nbformat_minor": 1
}
