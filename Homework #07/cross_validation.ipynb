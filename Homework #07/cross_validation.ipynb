{
 "cells": [
  {
   "cell_type": "code",
   "execution_count": 36,
   "metadata": {
    "collapsed": true
   },
   "outputs": [],
   "source": [
    "import numpy as np\n",
    "from sklearn import linear_model\n",
    "from sklearn.model_selection import cross_val_score"
   ]
  },
  {
   "cell_type": "code",
   "execution_count": 83,
   "metadata": {
    "collapsed": false
   },
   "outputs": [
    {
     "name": "stdout",
     "output_type": "stream",
     "text": [
      "Ro        E_cv(h_0)      E_cv(h_1)      \n",
      "2.3942     1.1350         0.5000         \n",
      "0.8556     64.6649        0.5000         \n",
      "4.3357     0.5000         0.5000         \n",
      "2.5594     0.9869         0.5000         \n"
     ]
    }
   ],
   "source": [
    "ro = [np.sqrt(np.sqrt(3) + 4), np.sqrt(np.sqrt(3) - 1), np.sqrt(9 + 4*np.sqrt(6)), np.sqrt(9 - np.sqrt(6))]\n",
    "\n",
    "print('{0:10}{1:15}{2:15}'.format('Ro', 'E_cv(h_0)', 'E_cv(h_1)'))\n",
    "\n",
    "for r in ro:\n",
    "    x = np.array([-1, r, 1])\n",
    "    y = np.array([0, 1, 0])\n",
    "    regr = linear_model.LinearRegression()\n",
    "    regr.fit(x.reshape(-1, 1), y)\n",
    "    scores = - cross_val_score(regr, x.reshape(-1, 1), y, cv=3, scoring='neg_mean_squared_error')\n",
    "    e_cv_h_0 = scores.mean()\n",
    "    regr.fit_intercept = False\n",
    "    x = np.array([1, 1, 1])\n",
    "    scores = - cross_val_score(regr, x.reshape(-1, 1), y, cv=3, scoring='neg_mean_squared_error')\n",
    "    e_cv_h_1 = scores.mean()\n",
    "    \n",
    "    print('{0:<10.4f} {1:<15.4f}{2:<15.4f}'.format(r, e_cv_h_0, e_cv_h_1))\n",
    "    "
   ]
  },
  {
   "cell_type": "code",
   "execution_count": null,
   "metadata": {
    "collapsed": true
   },
   "outputs": [],
   "source": []
  }
 ],
 "metadata": {
  "kernelspec": {
   "display_name": "Python [conda root]",
   "language": "python",
   "name": "conda-root-py"
  },
  "language_info": {
   "codemirror_mode": {
    "name": "ipython",
    "version": 3
   },
   "file_extension": ".py",
   "mimetype": "text/x-python",
   "name": "python",
   "nbconvert_exporter": "python",
   "pygments_lexer": "ipython3",
   "version": "3.5.2"
  }
 },
 "nbformat": 4,
 "nbformat_minor": 1
}
