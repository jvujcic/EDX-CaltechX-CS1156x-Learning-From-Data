{
 "cells": [
  {
   "cell_type": "code",
   "execution_count": 1,
   "metadata": {
    "collapsed": true
   },
   "outputs": [],
   "source": [
    "import numpy as np\n",
    "import matplotlib.pyplot as plt\n",
    "import pandas as pd\n",
    "import sklearn as sk\n",
    "from sklearn import linear_model\n",
    "import warnings"
   ]
  },
  {
   "cell_type": "code",
   "execution_count": 2,
   "metadata": {
    "collapsed": false
   },
   "outputs": [
    {
     "data": {
      "text/html": [
       "<div>\n",
       "<table border=\"1\" class=\"dataframe\">\n",
       "  <thead>\n",
       "    <tr style=\"text-align: right;\">\n",
       "      <th></th>\n",
       "      <th>x</th>\n",
       "      <th>y</th>\n",
       "      <th>sign</th>\n",
       "    </tr>\n",
       "  </thead>\n",
       "  <tbody>\n",
       "    <tr>\n",
       "      <th>0</th>\n",
       "      <td>-0.779470</td>\n",
       "      <td>0.838221</td>\n",
       "      <td>1</td>\n",
       "    </tr>\n",
       "    <tr>\n",
       "      <th>1</th>\n",
       "      <td>0.155635</td>\n",
       "      <td>0.895377</td>\n",
       "      <td>1</td>\n",
       "    </tr>\n",
       "    <tr>\n",
       "      <th>2</th>\n",
       "      <td>-0.059908</td>\n",
       "      <td>-0.717780</td>\n",
       "      <td>1</td>\n",
       "    </tr>\n",
       "    <tr>\n",
       "      <th>3</th>\n",
       "      <td>0.207596</td>\n",
       "      <td>0.758933</td>\n",
       "      <td>1</td>\n",
       "    </tr>\n",
       "    <tr>\n",
       "      <th>4</th>\n",
       "      <td>-0.195983</td>\n",
       "      <td>-0.375487</td>\n",
       "      <td>-1</td>\n",
       "    </tr>\n",
       "  </tbody>\n",
       "</table>\n",
       "</div>"
      ],
      "text/plain": [
       "          x         y  sign\n",
       "0 -0.779470  0.838221     1\n",
       "1  0.155635  0.895377     1\n",
       "2 -0.059908 -0.717780     1\n",
       "3  0.207596  0.758933     1\n",
       "4 -0.195983 -0.375487    -1"
      ]
     },
     "execution_count": 2,
     "metadata": {},
     "output_type": "execute_result"
    }
   ],
   "source": [
    "sample = pd.read_table(filepath_or_buffer = 'in.dta',\n",
    "                       delim_whitespace = True,\n",
    "                       names = ['x', 'y', 'sign'],\n",
    "                       dtype = {'x': np.float64, 'y': np.float64, 'sign': np.int32})\n",
    "sample.head()"
   ]
  },
  {
   "cell_type": "code",
   "execution_count": 3,
   "metadata": {
    "collapsed": false
   },
   "outputs": [
    {
     "data": {
      "text/html": [
       "<div>\n",
       "<table border=\"1\" class=\"dataframe\">\n",
       "  <thead>\n",
       "    <tr style=\"text-align: right;\">\n",
       "      <th></th>\n",
       "      <th>x</th>\n",
       "      <th>y</th>\n",
       "      <th>sign</th>\n",
       "    </tr>\n",
       "  </thead>\n",
       "  <tbody>\n",
       "    <tr>\n",
       "      <th>0</th>\n",
       "      <td>-0.106006</td>\n",
       "      <td>-0.081467</td>\n",
       "      <td>-1</td>\n",
       "    </tr>\n",
       "    <tr>\n",
       "      <th>1</th>\n",
       "      <td>0.177930</td>\n",
       "      <td>-0.345951</td>\n",
       "      <td>-1</td>\n",
       "    </tr>\n",
       "    <tr>\n",
       "      <th>2</th>\n",
       "      <td>0.102162</td>\n",
       "      <td>0.718258</td>\n",
       "      <td>1</td>\n",
       "    </tr>\n",
       "    <tr>\n",
       "      <th>3</th>\n",
       "      <td>0.694078</td>\n",
       "      <td>0.623397</td>\n",
       "      <td>-1</td>\n",
       "    </tr>\n",
       "    <tr>\n",
       "      <th>4</th>\n",
       "      <td>0.023541</td>\n",
       "      <td>0.727432</td>\n",
       "      <td>1</td>\n",
       "    </tr>\n",
       "  </tbody>\n",
       "</table>\n",
       "</div>"
      ],
      "text/plain": [
       "          x         y  sign\n",
       "0 -0.106006 -0.081467    -1\n",
       "1  0.177930 -0.345951    -1\n",
       "2  0.102162  0.718258     1\n",
       "3  0.694078  0.623397    -1\n",
       "4  0.023541  0.727432     1"
      ]
     },
     "execution_count": 3,
     "metadata": {},
     "output_type": "execute_result"
    }
   ],
   "source": [
    "test = pd.read_table(filepath_or_buffer = 'out.dta',\n",
    "                       delim_whitespace = True,\n",
    "                       names = ['x', 'y', 'sign'],\n",
    "                       dtype = {'x': np.float64, 'y': np.float64, 'sign': np.int32})\n",
    "test.head()"
   ]
  },
  {
   "cell_type": "code",
   "execution_count": 4,
   "metadata": {
    "collapsed": false
   },
   "outputs": [],
   "source": [
    "transformations = [\n",
    "    lambda x: 1,\n",
    "    lambda x: x[0],\n",
    "    lambda x: x[1],\n",
    "    lambda x: x[0]**2,\n",
    "    lambda x: x[1]**2,\n",
    "    lambda x: x[0] * x[1],\n",
    "    lambda x: np.abs(x[0] - x[1]),\n",
    "    lambda x: np.abs(x[0] + x[1])\n",
    "]\n",
    "\n",
    "def create_func(n, vector):\n",
    "    def func(p):\n",
    "        return int(np.sign(sum([transformations[i](p) * vector[i] for i in range(n + 1)])))\n",
    "    return func"
   ]
  },
  {
   "cell_type": "code",
   "execution_count": 5,
   "metadata": {
    "collapsed": false
   },
   "outputs": [],
   "source": [
    "def run_experiment(training_size, from_head=True):\n",
    "    for i, t in enumerate(transformations):\n",
    "        sample[i] = sample[['x', 'y']].apply(t, axis = 1)\n",
    "\n",
    "    if from_head:\n",
    "        training = sample[:training_size]\n",
    "        validation = sample[training_size:]\n",
    "    else:\n",
    "        training = sample[35 - training_size:]\n",
    "        validation = sample[:35 - training_size]\n",
    "\n",
    "    regr = sk.linear_model.LinearRegression()\n",
    "\n",
    "    print(\"Training size: \", training_size)\n",
    "    print('{0:10}{1:25}{2:25}'.format('Model', 'E_val', 'E_out'))\n",
    "\n",
    "    for i, t in enumerate(transformations[1:]):\n",
    "        regr.fit(training.iloc[:, 4: i + 5], training.sign)\n",
    "        w = np.append(regr.intercept_, regr.coef_)\n",
    "        f = create_func(i + 1, w)\n",
    "        e_val = 1 - sk.metrics.accuracy_score(validation.sign, validation[['x', 'y']].apply(f, axis = 1))\n",
    "        e_out = 1 - sk.metrics.accuracy_score(test.sign, test[['x', 'y']].apply(f, axis = 1))\n",
    "\n",
    "        print('{0:<10}{1:<25}{2:<25}'.format(i+1,e_val, e_out))"
   ]
  },
  {
   "cell_type": "code",
   "execution_count": 6,
   "metadata": {
    "collapsed": false
   },
   "outputs": [
    {
     "name": "stdout",
     "output_type": "stream",
     "text": [
      "Training size:  25\n",
      "Model     E_val                    E_out                    \n",
      "1         0.5                      0.488                    \n",
      "2         0.7                      0.648                    \n",
      "3         0.30000000000000004      0.42000000000000004      \n",
      "4         0.5                      0.41600000000000004      \n",
      "5         0.19999999999999996      0.18799999999999994      \n",
      "6         0.0                      0.08399999999999996      \n",
      "7         0.09999999999999998      0.07199999999999995      \n"
     ]
    }
   ],
   "source": [
    "run_experiment(25)"
   ]
  },
  {
   "cell_type": "code",
   "execution_count": 7,
   "metadata": {
    "collapsed": false
   },
   "outputs": [
    {
     "name": "stdout",
     "output_type": "stream",
     "text": [
      "Training size:  10\n",
      "Model     E_val                    E_out                    \n",
      "1         0.43999999999999995      0.472                    \n",
      "2         0.43999999999999995      0.5                      \n",
      "3         0.28                     0.396                    \n",
      "4         0.36                     0.388                    \n",
      "5         0.19999999999999996      0.28400000000000003      \n",
      "6         0.07999999999999996      0.19199999999999995      \n",
      "7         0.12                     0.19599999999999995      \n"
     ]
    }
   ],
   "source": [
    "run_experiment(10, False)"
   ]
  },
  {
   "cell_type": "code",
   "execution_count": null,
   "metadata": {
    "collapsed": true
   },
   "outputs": [],
   "source": []
  }
 ],
 "metadata": {
  "anaconda-cloud": {},
  "kernelspec": {
   "display_name": "Python [conda root]",
   "language": "python",
   "name": "conda-root-py"
  },
  "language_info": {
   "codemirror_mode": {
    "name": "ipython",
    "version": 3
   },
   "file_extension": ".py",
   "mimetype": "text/x-python",
   "name": "python",
   "nbconvert_exporter": "python",
   "pygments_lexer": "ipython3",
   "version": "3.5.2"
  }
 },
 "nbformat": 4,
 "nbformat_minor": 1
}
